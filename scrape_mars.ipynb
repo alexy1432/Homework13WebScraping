{
 "cells": [
  {
   "cell_type": "code",
   "execution_count": 1,
   "metadata": {},
   "outputs": [],
   "source": [
    "from bs4 import BeautifulSoup as bs\n",
    "import requests\n",
    "import pandas as pd\n",
    "from splinter import Browser\n",
    "from splinter.exceptions import ElementDoesNotExist\n",
    "import time\n",
    "\n",
    "\n",
    "# Define scrape function\n",
    "def scrape():\n",
    "    mars_library = {}\n",
    "    executable_path = {'executable_path': 'chromedriver.exe'}\n",
    "    browser = Browser('chrome', **executable_path, headless=False)\n",
    "    \n",
    "    # Mars News\n",
    "    url1 = 'https://mars.nasa.gov/news/?page=0&per_page=40&order=publish_date+desc%2Ccreated_at+desc&search=&category=19%2C165%2C184%2C204&blank_scope=Latest'\n",
    "    browser.visit(url1)\n",
    "    html = browser.html\n",
    "    soup = bs(html, \"html.parser\")\n",
    "    news_title = soup1.find_all('div', class_='content_title')[0].find('a').text.strip()\n",
    "    news_p = soup.find_all('div', class_='rollover_description_inner')[0].text.strip()\n",
    "    mars_library['news_title'] = news_title\n",
    "    mars_library['news_p'] = news_p\n",
    "\n",
    "    # Mars Space Images\n",
    "    url2='https://www.jpl.nasa.gov/spaceimages/?search=&category=Mars'\n",
    "    response2 = requests.get(url2)\n",
    "    soup2 = bs(response2.text, 'html.parser')\n",
    "    print(soup2.prettify())\n",
    "    image=soup2.find_all('img')[3].get('src').strip()\n",
    "    featured_image_url=url2+image\n",
    "    print(featured_image_url)\n",
    "\n",
    "    # Mars Weather\n",
    "    url3 = 'https://twitter.com/marswxreport?lang=en'\n",
    "    browser.visit(url3)\n",
    "    html = browser.html\n",
    "    soup3 = bs(html, \"html.parser\")\n",
    "    mars_weather1 = soup3.find_all('p', class_='TweetTextSize TweetTextSize--normal js-tweet-text tweet-text')[0].text\n",
    "    mars_weather2 = mars_weather1[:-26]\n",
    "    mars_library['mars_weather'] = mars_weather\n",
    "\n",
    "\n",
    "    # Mars Facts\n",
    "    url4 = 'https://space-facts.com/mars/'\n",
    "    tables = pd.read_html(url4)\n",
    "    data = tables[0]\n",
    "    mars_facts=data.to_html\n",
    "    mars_library['mars_facts'] = mars_facts\n",
    "\n",
    "\n",
    "    # Mars Hemispheres\n",
    "    url5 = 'https://astrogeology.usgs.gov/search/results?q=hemisphere+enhanced&k1=target&v1=Mars'\n",
    "    browser.visit(url5)\n",
    "    html = browser.html\n",
    "    soup5 = bs(html,\"html5lib\")\n",
    "    hemisphere_image_urls = []\n",
    "    dict = {}\n",
    "    results = soup5.find_all('h3')\n",
    "    for result in results:\n",
    "        itema = result.text\n",
    "        time.sleep(1)    \n",
    "        browser.click_link_by_partial_text(itema)\n",
    "        time.sleep(1)\n",
    "        htmla = browser.html\n",
    "        soupa = bs(htmla,\"html.parser\")\n",
    "        time.sleep(1)\n",
    "        linka = soupa.find_all('div', class_=\"downloads\")[0].find_all('a')[0].get(\"href\")\n",
    "        time.sleep(1)\n",
    "        dict[\"title\"]=itema\n",
    "        dict[\"img_url\"]=linka\n",
    "        hemisphere_image_urls.append(dict)\n",
    "        dict = {}\n",
    "        browser.click_link_by_partial_text('Back')\n",
    "        time.sleep(1)\n",
    "    mars_library['hemisphere_image_urls']=hemisphere_image_urls\n",
    "    \n",
    "    return mars_library"
   ]
  },
  {
   "cell_type": "code",
   "execution_count": 5,
   "metadata": {},
   "outputs": [
    {
     "name": "stdout",
     "output_type": "stream",
     "text": [
      "<function scrape at 0x000001A4D6B40950>\n"
     ]
    }
   ],
   "source": []
  },
  {
   "cell_type": "code",
   "execution_count": null,
   "metadata": {},
   "outputs": [],
   "source": []
  }
 ],
 "metadata": {
  "kernelspec": {
   "display_name": "Python 3",
   "language": "python",
   "name": "python3"
  },
  "language_info": {
   "codemirror_mode": {
    "name": "ipython",
    "version": 3
   },
   "file_extension": ".py",
   "mimetype": "text/x-python",
   "name": "python",
   "nbconvert_exporter": "python",
   "pygments_lexer": "ipython3",
   "version": "3.7.3"
  }
 },
 "nbformat": 4,
 "nbformat_minor": 2
}
